{
 "cells": [
  {
   "cell_type": "code",
   "execution_count": 48,
   "metadata": {},
   "outputs": [],
   "source": [
    "#pip install gensim\n",
    "from gensim.models import word2vec\n",
    "#讀取檔案\n",
    "clean_for_w2v_path=r\"F:\\資策會\\專題\\爬蟲\\venv\\clean_for_w2v.txt\"\n",
    "#設定要train的model\n",
    "model_name_to_train=\"test.model\"\n",
    "#設定要用的model\n",
    "model_name_to_use=\"test.model\""
   ]
  },
  {
   "cell_type": "code",
   "execution_count": 49,
   "metadata": {},
   "outputs": [],
   "source": [
    "def read_data(clean_for_w2v_path):\n",
    "    with open(clean_for_w2v_path,\"r\",encoding=\"utf-8\") as f:\n",
    "        content=f.read()\n",
    "        return content"
   ]
  },
  {
   "cell_type": "code",
   "execution_count": 50,
   "metadata": {},
   "outputs": [],
   "source": [
    "def train_model(content,model_name):\n",
    "    model = word2vec.Word2Vec(content,size=100,alpha=0.025,window=5,min_count=1,max_vocab_size=None,sample=0.001,seed=1,workers=4,\\\n",
    "                              min_alpha=0.0001,sg=0,hs=0,negative=5,cbow_mean=1,iter=5,null_word=0,\\\n",
    "                              trim_rule=None,sorted_vocab=1,batch_words=100)\n",
    "    model.save(model_name)"
   ]
  },
  {
   "cell_type": "code",
   "execution_count": 51,
   "metadata": {},
   "outputs": [],
   "source": [
    "def load_model(model_name_to_use):\n",
    "    word2vec.Word2Vec.load(model_name_to_use)"
   ]
  },
  {
   "cell_type": "code",
   "execution_count": 52,
   "metadata": {},
   "outputs": [],
   "source": [
    "if __name__ == \"__main__\":\n",
    "    content=read_data(clean_for_w2v_path)\n",
    "    train_model(content,model_name_to_train)\n",
    "    load_model(model_name_to_use)"
   ]
  },
  {
   "cell_type": "markdown",
   "metadata": {},
   "source": []
  },
  {
   "cell_type": "code",
   "execution_count": 59,
   "metadata": {},
   "outputs": [
    {
     "name": "stdout",
     "output_type": "stream",
     "text": [
      "('退', 0.2552463412284851)\n",
      "('程', 0.20060332119464874)\n",
      "('茄', 0.18481874465942383)\n",
      "('迅', 0.18293507397174835)\n",
      "('早', 0.18156899511814117)\n",
      "('D', 0.1800064891576767)\n",
      "('久', 0.17433102428913116)\n",
      "('0', 0.17428775131702423)\n",
      "('架', 0.17416110634803772)\n",
      "('測', 0.17337115108966827)\n"
     ]
    },
    {
     "name": "stderr",
     "output_type": "stream",
     "text": [
      "f:\\python3\\lib\\site-packages\\ipykernel_launcher.py:1: DeprecationWarning: Call to deprecated `most_similar` (Method will be removed in 4.0.0, use self.wv.most_similar() instead).\n",
      "  \"\"\"Entry point for launching an IPython kernel.\n"
     ]
    }
   ],
   "source": [
    "result = model.most_similar(u\"米\")\n",
    "for i in result:\n",
    "    print(i)\n"
   ]
  }
 ],
 "metadata": {
  "kernelspec": {
   "display_name": "Python 3",
   "language": "python",
   "name": "python3"
  },
  "language_info": {
   "codemirror_mode": {
    "name": "ipython",
    "version": 3
   },
   "file_extension": ".py",
   "mimetype": "text/x-python",
   "name": "python",
   "nbconvert_exporter": "python",
   "pygments_lexer": "ipython3",
   "version": "3.7.4"
  }
 },
 "nbformat": 4,
 "nbformat_minor": 2
}
