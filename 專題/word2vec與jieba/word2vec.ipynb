{
 "cells": [
  {
   "cell_type": "code",
   "execution_count": null,
   "metadata": {},
   "outputs": [],
   "source": [
    "#pip install gensim\n",
    "from gensim.models import word2vec\n",
    "import pandas as pd\n",
    "import numpy as np\n",
    "#讀取檔案\n",
    "clean_for_w2v_path_ingredient_names=r\"F:\\資策會\\專題\\爬蟲\\venv\\clean_for_w2v.txt\"\n",
    "clean_for_w2v_path_step=r\"F:\\資策會\\專題\\爬蟲\\venv\\clean_for_w2v_0649.txt\"\n",
    "clean_for_word_embedding_path=r\"F:\\資策會\\專題\\爬蟲\\venv\\clean_for_word_0649.txt\"\n",
    "#設定要train的model\n",
    "model_name_to_train=\"test3.model\"\n",
    "#設定要用的model\n",
    "model_name_to_use=\"test3.model\"\n"
   ]
  },
  {
   "cell_type": "code",
   "execution_count": null,
   "metadata": {},
   "outputs": [],
   "source": [
    "def show_similar(model):\n",
    "    list_test=[\"雞蛋\",\"豬肉\",\"中筋麵粉\",\"番茄\",\"煎\",\"水\",\"蒸\",\"高麗菜\",\"削\"]\n",
    "    #list_test=[\"雞蛋\",\"豬肉\",\"中筋麵粉\",\"番茄\",\"水\",\"高麗菜\"]\n",
    "    df=pd.DataFrame(columns=list_test)\n",
    "    for n,i in enumerate(list_test):\n",
    "        result = model.most_similar(i, topn=7)    \n",
    "        df[i]=result\n",
    "    print(df)"
   ]
  },
  {
   "cell_type": "code",
   "execution_count": null,
   "metadata": {},
   "outputs": [],
   "source": [
    "def train_model(path):\n",
    "    sentences = word2vec.LineSentence(path)\n",
    "    model = word2vec.Word2Vec(sentences,size=250,window=10,workers=4,sg=1,min_count=0,alpha=0.02,hs=0)\n",
    "    model.save(model_name_to_train)\n",
    "    return model"
   ]
  },
  {
   "cell_type": "code",
   "execution_count": null,
   "metadata": {
    "scrolled": true
   },
   "outputs": [],
   "source": [
    "#\n",
    "def train_by_step_show(clean_for_w2v_path_step):\n",
    "    model=train_model(clean_for_w2v_path_step)\n",
    "    show_similar(model)\n",
    "train_by_step_show(clean_for_w2v_path_step)"
   ]
  },
  {
   "cell_type": "code",
   "execution_count": null,
   "metadata": {},
   "outputs": [],
   "source": [
    "model=train_model(clean_for_w2v_path_step)\n",
    "model['雞蛋']"
   ]
  },
  {
   "cell_type": "code",
   "execution_count": null,
   "metadata": {},
   "outputs": [],
   "source": [
    "def train_by_ingredient_names_show(clean_for_w2v_path_ingredient_names):\n",
    "    model=train_model(clean_for_w2v_path_ingredient_names)\n",
    "    show_similar(model)\n",
    "train_by_ingredient_names_show(clean_for_w2v_path_ingredient_names)"
   ]
  },
  {
   "cell_type": "code",
   "execution_count": null,
   "metadata": {},
   "outputs": [],
   "source": [
    "if __name__ == \"__main__\":\n",
    "    model=train_model()\n",
    "    #model=load_model()\n",
    "    show_similar(model)\n",
    "\n",
    "\n",
    "\n",
    "\n"
   ]
  },
  {
   "cell_type": "code",
   "execution_count": null,
   "metadata": {},
   "outputs": [],
   "source": [
    "def load_model():\n",
    "    return word2vec.Word2Vec.load(model_name_to_use)"
   ]
  },
  {
   "cell_type": "code",
   "execution_count": null,
   "metadata": {},
   "outputs": [],
   "source": [
    "def calculator_food_vector():\n",
    "    model=load_model()\n",
    "    with open(clean_for_word_embedding_path,\"r\", encoding='utf-8') as f:\n",
    "        list_cut_step_every_food=f.read()\n",
    "        for list_cut_step_one_food in list_cut_step_every_food:\n",
    "            food_vector=np.zeros((1,300),dtype=np.float32)\n",
    "            error_count=0\n",
    "            for word in list_cut_step_one_food:\n",
    "                try:\n",
    "                    food_vector+=np.around(model[word], decimals=4)\n",
    "                except KeyError as e:\n",
    "                    error_count+=1\n",
    "                    #print(e)\n",
    "            food_vector=food_vector/(len(list_cut_step_one_food)-error_count)\n",
    "            print(error_count)\n"
   ]
  },
  {
   "cell_type": "code",
   "execution_count": null,
   "metadata": {},
   "outputs": [],
   "source": [
    "model=load_model()\n",
    "n=np.zeros((1,300),dtype=np.float32)\n",
    "list_cut_step_one_food=\n",
    "for word in list_cut_step_one_food:\n",
    "                try:\n",
    "                    food_vector+=np.around(model[word], decimals=4)\n",
    "                except KeyError as e:\n",
    "                    error_count+=1\n",
    "                    print(e)\n",
    "            food_vector=food_vector/(len(list_cut_step_one_food)-error_count)\n",
    "            print(len(list_cut_step_one_food,error_count)\n",
    "print(np.around(model[\"蛋\"]+n, decimals=4))"
   ]
  },
  {
   "cell_type": "code",
   "execution_count": null,
   "metadata": {},
   "outputs": [],
   "source": [
    "calculator_food_vector()"
   ]
  },
  {
   "cell_type": "code",
   "execution_count": null,
   "metadata": {},
   "outputs": [],
   "source": []
  },
  {
   "cell_type": "markdown",
   "metadata": {},
   "source": []
  },
  {
   "cell_type": "code",
   "execution_count": null,
   "metadata": {},
   "outputs": [],
   "source": []
  },
  {
   "cell_type": "code",
   "execution_count": null,
   "metadata": {},
   "outputs": [],
   "source": []
  }
 ],
 "metadata": {
  "kernelspec": {
   "display_name": "Python 3",
   "language": "python",
   "name": "python3"
  },
  "language_info": {
   "codemirror_mode": {
    "name": "ipython",
    "version": 3
   },
   "file_extension": ".py",
   "mimetype": "text/x-python",
   "name": "python",
   "nbconvert_exporter": "python",
   "pygments_lexer": "ipython3",
   "version": "3.7.4"
  }
 },
 "nbformat": 4,
 "nbformat_minor": 2
}
