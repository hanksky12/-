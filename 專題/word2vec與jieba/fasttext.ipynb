{
 "cells": [
  {
   "cell_type": "code",
   "execution_count": 2,
   "metadata": {},
   "outputs": [],
   "source": [
    "#import fasttext\n",
    "#pip install fasttext-0.9.1-cp37-cp37m-win32.whl 原本安裝fasttext要安裝C++ 容量太大太麻煩 安裝指令那一格不能有註解..........\n",
    "#pip install wordcloud-1.6.0-cp37-cp37m-win32.whl\n",
    "#https://www.lfd.uci.edu/~gohlke/pythonlibs/#fasttext  這邊抓東西可免去環境需要的安裝\n",
    "from gensim.models.fasttext import FastText\n",
    "from gensim.models import word2vec\n",
    "import pandas as pd\n",
    "import numpy as np\n",
    "from sklearn.decomposition import PCA\n",
    "import matplotlib.pyplot as plt\n",
    "import os,json,wordcloud\n",
    "#讀取檔案\n",
    "clean_for_fasttext_path_ingredient_names=r\"F:\\資策會\\專題\\爬蟲\\venv\\clean_for_w2v.txt\"\n",
    "clean_for_fasttext_path_step=r\"F:\\資策會\\專題\\爬蟲\\venv\\w2v_allpeople_cut_1230cleanstep.txt\"\n",
    "clean_for_word_embedding_path=r\"F:\\資策會\\專題\\爬蟲\\venv\\word_cut_1230cleanstep.txt\"\n",
    "wordcloud_path=r\"F:\\資策會\\專題\\爬蟲\\venv\\w2v_cut_1230cleanstep.txt\"\n",
    "path=r\"F:\\資策會\\專題\\爬蟲\\venv\\collction_freefood_jay_clean\"\n",
    "\n",
    "#設定要train的model\n",
    "model_name_to_train=\"test_fasttext.bin\"\n",
    "#設定要用的model\n",
    "model_name_to_use=\"test_fasttext.bin\""
   ]
  },
  {
   "cell_type": "code",
   "execution_count": 18,
   "metadata": {},
   "outputs": [],
   "source": [
    "#從原始檔讀上食譜\n",
    "def read_from_json():\n",
    "    json_list = os.listdir(path)\n",
    "    list_for_json=[]\n",
    "    #29101~35529\n",
    "    for i in range(29101,35530):\n",
    "        with open(path + \"/\" +\"food_json_\"+str(i)+\".json\", \"r\", encoding=\"utf-8\") as f:\n",
    "            dic = f.read()\n",
    "            d = json.loads(dic)\n",
    "            list_for_json.append(d)\n",
    "    return list_for_json"
   ]
  },
  {
   "cell_type": "code",
   "execution_count": 19,
   "metadata": {},
   "outputs": [],
   "source": [
    "#從原始檔抓出ID跟食譜名稱\n",
    "def take_name_ID_form_json(list_for_json):\n",
    "    for n,d in enumerate(list_for_json):\n",
    "        recipe_name=d[\"recipe_name\"]\n",
    "        recipe_name=recipe_name.replace(\" \",\"\")\n",
    "        food_id = d[\"_id\"]\n",
    "        ID_name_vector.loc[n]=[recipe_name,food_id]"
   ]
  },
  {
   "cell_type": "code",
   "execution_count": 22,
   "metadata": {},
   "outputs": [],
   "source": [
    "def show_similar(model):\n",
    "    #print(model.get_nearest_neighbors(\"你\"))\n",
    "    list_test=[\"雞蛋\",\"豬肉\",\"中筋麵粉\",\"番茄\",\"煎\",\"水\",\"蒸\",\"高麗菜\",\"削\",\"巧克力\"]\n",
    "    #list_test=[\"雞蛋\",\"豬肉\",\"中筋麵粉\",\"番茄\",\"水\",\"高麗菜\"]\n",
    "    df=pd.DataFrame(columns=list_test)\n",
    "    for n,i in enumerate(list_test):\n",
    "        result = model.most_similar(i, topn=7)    \n",
    "        df[i]=result\n",
    "    print(df)"
   ]
  },
  {
   "cell_type": "code",
   "execution_count": null,
   "metadata": {
    "scrolled": false
   },
   "outputs": [],
   "source": [
    "# def prepare_for_fast_data():\n",
    "#     data_list=[]\n",
    "#     with open(clean_for_word_embedding_path,\"r\", encoding='utf-8') as f:\n",
    "#         cut_step_every_food=f.read()\n",
    "#         list_cut_step_every_food=cut_step_every_food.split(\"\\n\")\n",
    "#         #刪去多的換行符號        \n",
    "#         del list_cut_step_every_food[-1]\n",
    "#         #每篇文章    \n",
    "#         for n,cut_step_one_food in enumerate(list_cut_step_every_food):\n",
    "#             #每個步驟的字,把字放進list\n",
    "#             list_cut_step_one_food=cut_step_one_food.split(\",\")\n",
    "#             data_list.append(list_cut_step_one_food)\n",
    "#     #print(data_list)\n",
    "#     return data_list\n",
    "#原本以為一定要list裡面list才能用"
   ]
  },
  {
   "cell_type": "code",
   "execution_count": 20,
   "metadata": {},
   "outputs": [],
   "source": [
    "def train_model(path):\n",
    "    sentences = word2vec.LineSentence(path)\n",
    "    #data=prepare_for_fast_data()\n",
    "    model = FastText(sentences=sentences,size=17, window=5,workers=20 ,min_count=3,sg=0,iter=10)\n",
    "    model.save(model_name_to_train)\n",
    "    return model"
   ]
  },
  {
   "cell_type": "code",
   "execution_count": 21,
   "metadata": {},
   "outputs": [],
   "source": [
    "def load_model():\n",
    "    return FastText.load(model_name_to_use)"
   ]
  },
  {
   "cell_type": "code",
   "execution_count": 23,
   "metadata": {},
   "outputs": [
    {
     "name": "stderr",
     "output_type": "stream",
     "text": [
      "f:\\python3\\lib\\site-packages\\ipykernel_launcher.py:7: DeprecationWarning: Call to deprecated `most_similar` (Method will be removed in 4.0.0, use self.wv.most_similar() instead).\n",
      "  import sys\n"
     ]
    },
    {
     "name": "stdout",
     "output_type": "stream",
     "text": [
      "                           雞蛋                           豬肉  \\\n",
      "0     (蛋, 0.9094400405883789)    (豬肉包, 0.9525145292282104)   \n",
      "1   (雞蛋黃, 0.8819732666015625)  (豬肉火鍋片, 0.8821613788604736)   \n",
      "2  (水煮蛋黃, 0.8614808320999146)   (梅花絞肉, 0.8819665312767029)   \n",
      "3   (雞蛋白, 0.8264668583869934)   (五花絞肉, 0.8770784139633179)   \n",
      "4    (全蛋, 0.8069368600845337)  (梅花豬肉片, 0.8641852140426636)   \n",
      "5  (馬鈴薯粉, 0.7846250534057617)   (梅花肉片, 0.8547980785369873)   \n",
      "6    (打進, 0.7765377759933472)   (豬肉肉排, 0.8495012521743774)   \n",
      "\n",
      "                         中筋麵粉                         番茄  \\\n",
      "0   (筋麵粉, 0.9449715614318848)   (蕃茄, 0.9468469023704529)   \n",
      "1  (低筋麵粉, 0.9013145565986633)  (牛番茄, 0.9156501889228821)   \n",
      "2  (高筋麵粉, 0.8838521838188171)  (綠番茄, 0.9111796021461487)   \n",
      "3  (全麥麵粉, 0.8811448216438293)  (黃番茄, 0.9029255509376526)   \n",
      "4    (麵粉, 0.8752610683441162)   (西洋芹, 0.901302695274353)   \n",
      "5    (中粉, 0.8647719025611877)  (番茄冰, 0.8951805830001831)   \n",
      "6    (中筋, 0.8528096675872803)  (番茄絲, 0.8934014439582825)   \n",
      "\n",
      "                             煎                            水  \\\n",
      "0     (二面, 0.9359126091003418)     (水先, 0.9080093502998352)   \n",
      "1   (金黃後再, 0.9253903031349182)    (素高湯, 0.8901546597480774)   \n",
      "2     (油煎, 0.9248610138893127)     (清水, 0.8666382431983948)   \n",
      "3  (金黃後翻面, 0.9196211695671082)   (柴魚高湯, 0.8634392023086548)   \n",
      "4     (煎熟, 0.9174761176109314)  (豬大骨高湯, 0.8623769283294678)   \n",
      "5   (金黃後翻, 0.9169261455535889)   (大骨高湯, 0.8603338599205017)   \n",
      "6     (金黃, 0.9135703444480896)     (水加, 0.8559184670448303)   \n",
      "\n",
      "                           蒸                         高麗菜  \\\n",
      "0    (蒸鍋, 0.930781364440918)  (高麗菜心, 0.9497978091239929)   \n",
      "1  (進蒸鍋, 0.9250631928443909)   (辣白菜, 0.9164959192276001)   \n",
      "2  (將蒸鍋, 0.9067128896713257)  (高麗菜乾, 0.9006020426750183)   \n",
      "3  (備蒸鍋, 0.9003127217292786)   (金針菇, 0.8936285972595215)   \n",
      "4  (電蒸鍋, 0.8997740149497986)    (高麗, 0.8736931681632996)   \n",
      "5   (蒸個, 0.8913604021072388)    (針菇, 0.8645452260971069)   \n",
      "6   (蒸十, 0.8839476704597473)   (小白菜, 0.8589805960655212)   \n",
      "\n",
      "                            削                          巧克力  \n",
      "0   (削皮刀, 0.9539858102798462)   (巧克力磚, 0.9788084626197815)  \n",
      "1    (削成, 0.9475630521774292)   (巧克力酥, 0.9751904606819153)  \n",
      "2    (刀削, 0.9444759488105774)  (榛果巧克力, 0.9717879891395569)  \n",
      "3    (狀上, 0.9289135336875916)   (巧克力塊, 0.9711254239082336)  \n",
      "4    (滾刀, 0.9279966354370117)     (巧克力片, 0.97037672996521)  \n",
      "5    (削去, 0.9244591593742371)     (巧克, 0.9666066765785217)  \n",
      "6  (纖維後切, 0.9158135652542114)   (巧克力球, 0.9655101299285889)  \n"
     ]
    }
   ],
   "source": [
    "def train_by_step_show(clean_for_fasttext_path_step):\n",
    "    model=train_model(clean_for_fasttext_path_step)\n",
    "    #model=load_model()\n",
    "    show_similar(model)\n",
    "train_by_step_show(clean_for_fasttext_path_step)"
   ]
  },
  {
   "cell_type": "code",
   "execution_count": 24,
   "metadata": {},
   "outputs": [],
   "source": [
    "def calculator_food_vector():\n",
    "    model=load_model()\n",
    "    with open(clean_for_word_embedding_path,\"r\", encoding='utf-8') as f:\n",
    "        cut_step_every_food=f.read()\n",
    "        list_cut_step_every_food=cut_step_every_food.split(\"\\n\")\n",
    "        #刪去多的換行符號        \n",
    "        del list_cut_step_every_food[-1]\n",
    "        #每篇文章\n",
    "        every_avg_vector_list=[]       \n",
    "        for n,cut_step_one_food in enumerate(list_cut_step_every_food):\n",
    "            #每個步驟的字,把字放進list\n",
    "            list_cut_step_one_food=cut_step_one_food.split(\",\")\n",
    "            food_vector=np.zeros((1,17),dtype=np.float32)\n",
    "            error_count=0                       \n",
    "            for m,word in enumerate(list_cut_step_one_food):\n",
    "                try:\n",
    "                    food_vector+=np.matrix(model[word])\n",
    "                #要先執行model[word] 才能觸發ERROR 不然count 都會是0\n",
    "                except KeyError as e:\n",
    "                    error_count+=1\n",
    "            #food_vector=np.power(food_vector,1)\n",
    "            ave_food_vector=food_vector/(len(list_cut_step_one_food)-error_count)\n",
    "            #ave_food_vector=np.power(ave_food_vector,2)\n",
    "            #ave_food_vector=np.around(ave_food_vector,decimals=4)\n",
    "            \n",
    "            #發現要PCA有空值回頭來檢查向量輸出\n",
    "#             if np.isnan(ave_food_vector)=True:               \n",
    "#             print(n,np.where(np.isnan(ave_food_vector)))\n",
    "            every_avg_vector_list.append(ave_food_vector)         \n",
    "        #用numpy推疊方式，堆出全部的,記憶體不足 不能用這個方法\n",
    "#         for n,i in enumerate(every_avg_vector_list):\n",
    "#             if n<len(every_avg_vector_list)-1:\n",
    "#                 every_avg_vector_list[n+1]=np.vstack((every_avg_vector_list[n],every_avg_vector_list[n+1]))\n",
    "#                 final=every_avg_vector_list[n+1]\n",
    "#         print(final)\n",
    "        con=np.zeros((len(every_avg_vector_list),17),dtype=\"float32\")        \n",
    "        for n,i in enumerate(every_avg_vector_list):\n",
    "            A=con[n]\n",
    "            A[:]=i\n",
    "        return con\n"
   ]
  },
  {
   "cell_type": "code",
   "execution_count": 25,
   "metadata": {},
   "outputs": [
    {
     "name": "stderr",
     "output_type": "stream",
     "text": [
      "f:\\python3\\lib\\site-packages\\ipykernel_launcher.py:17: DeprecationWarning: Call to deprecated `__getitem__` (Method will be removed in 4.0.0, use self.wv.__getitem__() instead).\n"
     ]
    }
   ],
   "source": [
    "ID_name_vector=pd.DataFrame(columns=[\"name\",\"food_id\"])\n",
    "list_for_json=read_from_json()\n",
    "take_name_ID_form_json(list_for_json)\n",
    "every_food_numpy_vector=calculator_food_vector()\n",
    "vector_name_list=[\"v\"+str(i) for i in range(1,18) ]\n",
    "every_food_df_vector=pd.DataFrame(every_food_numpy_vector,columns=vector_name_list)\n",
    "#every_food_df_vector.to_csv(\"test.csv\",index=0)\n",
    "all_df_vector=pd.concat([ID_name_vector,every_food_df_vector],axis=1)\n",
    "all_df_vector.to_csv(\"fasttext_allpeoplecut1230_cuttf1230_v17_w5_sg0_min3_i10_no_around_AVG.csv\",index=0)\n",
    "\n",
    "#直接轉TSV存檔\n",
    "# b=pd.DataFrame(b)\n",
    "# with open(\"route.tsv\", 'w') as write_tsv:\n",
    "#     write_tsv.write(b.to_csv(sep='\\t', index=False,header=False))\n"
   ]
  },
  {
   "cell_type": "code",
   "execution_count": 74,
   "metadata": {},
   "outputs": [
    {
     "name": "stderr",
     "output_type": "stream",
     "text": [
      "f:\\python3\\lib\\site-packages\\ipykernel_launcher.py:12: FutureWarning: Method .as_matrix will be removed in a future version. Use .values instead.\n",
      "  if sys.path[0] == '':\n"
     ]
    }
   ],
   "source": [
    "data=pd.read_csv(\"F:\\資策會\\專題\\R跟jupyternotebook_code\\complete.csv\")\n",
    "#①loc——通过行标签进行索引\n",
    "#②iloc——通过行号进行索引\n",
    "#③ix——结合前两种的混合索引\n",
    "#data.loc[:,\"Comp.1\":\"Comp.5\"]     原本用loc[:,20:25]一直出不來,這邊列的位置不能空，跟R不一樣，至少要有個:\n",
    "data_projector=data.iloc[:,19:24]\n",
    "data_name=data.iloc[:,0:2]\n",
    "data_fit=data.iloc[:,-1]\n",
    "data_name_fit=pd.concat([data_name,data_fit],axis=1)\n",
    "\n",
    "a=data_projector.columns\n",
    "tmp=data_projector.as_matrix()\n",
    "tmp_around=np.around(tmp,decimals=2)\n",
    "data_projector_around=pd.DataFrame(tmp_around,columns=a)\n",
    "with open(\"data_projector_around.tsv\", 'w') as write_tsv:\n",
    "    write_tsv.write(data_projector_around.to_csv(sep='\\t', index=False,header=False))\n",
    "\n",
    "with open(\"data_name_fit.tsv\", 'w',encoding=\"utf-8\") as write_tsv:\n",
    "    write_tsv.write(data_name_fit.to_csv(sep='\\t', index=False,header=True))"
   ]
  },
  {
   "cell_type": "code",
   "execution_count": 73,
   "metadata": {},
   "outputs": [
    {
     "data": {
      "text/html": [
       "<div>\n",
       "<style scoped>\n",
       "    .dataframe tbody tr th:only-of-type {\n",
       "        vertical-align: middle;\n",
       "    }\n",
       "\n",
       "    .dataframe tbody tr th {\n",
       "        vertical-align: top;\n",
       "    }\n",
       "\n",
       "    .dataframe thead th {\n",
       "        text-align: right;\n",
       "    }\n",
       "</style>\n",
       "<table border=\"1\" class=\"dataframe\">\n",
       "  <thead>\n",
       "    <tr style=\"text-align: right;\">\n",
       "      <th></th>\n",
       "      <th>name</th>\n",
       "      <th>food_id</th>\n",
       "      <th>fit</th>\n",
       "    </tr>\n",
       "  </thead>\n",
       "  <tbody>\n",
       "    <tr>\n",
       "      <td>0</td>\n",
       "      <td>陳皮紅豆湯圓</td>\n",
       "      <td>29102</td>\n",
       "      <td>1</td>\n",
       "    </tr>\n",
       "    <tr>\n",
       "      <td>1</td>\n",
       "      <td>起司醬佐松子核果義大利麵</td>\n",
       "      <td>29103</td>\n",
       "      <td>2</td>\n",
       "    </tr>\n",
       "    <tr>\n",
       "      <td>2</td>\n",
       "      <td>BBQ豬肋排</td>\n",
       "      <td>29104</td>\n",
       "      <td>3</td>\n",
       "    </tr>\n",
       "    <tr>\n",
       "      <td>3</td>\n",
       "      <td>韓式辣味油醋沙拉</td>\n",
       "      <td>29105</td>\n",
       "      <td>3</td>\n",
       "    </tr>\n",
       "    <tr>\n",
       "      <td>4</td>\n",
       "      <td>法式干邑烤布蕾</td>\n",
       "      <td>29106</td>\n",
       "      <td>3</td>\n",
       "    </tr>\n",
       "    <tr>\n",
       "      <td>...</td>\n",
       "      <td>...</td>\n",
       "      <td>...</td>\n",
       "      <td>...</td>\n",
       "    </tr>\n",
       "    <tr>\n",
       "      <td>6424</td>\n",
       "      <td>什錦海鮮凍</td>\n",
       "      <td>35526</td>\n",
       "      <td>1</td>\n",
       "    </tr>\n",
       "    <tr>\n",
       "      <td>6425</td>\n",
       "      <td>酸辣海鮮沙拉</td>\n",
       "      <td>35527</td>\n",
       "      <td>1</td>\n",
       "    </tr>\n",
       "    <tr>\n",
       "      <td>6426</td>\n",
       "      <td>醋溜鮭魚</td>\n",
       "      <td>35528</td>\n",
       "      <td>1</td>\n",
       "    </tr>\n",
       "    <tr>\n",
       "      <td>6427</td>\n",
       "      <td>德州式烤肩胛心</td>\n",
       "      <td>35529</td>\n",
       "      <td>3</td>\n",
       "    </tr>\n",
       "    <tr>\n",
       "      <td>6428</td>\n",
       "      <td>香煎嫩肩小菲力</td>\n",
       "      <td>35530</td>\n",
       "      <td>2</td>\n",
       "    </tr>\n",
       "  </tbody>\n",
       "</table>\n",
       "<p>6429 rows × 3 columns</p>\n",
       "</div>"
      ],
      "text/plain": [
       "              name  food_id  fit\n",
       "0           陳皮紅豆湯圓    29102    1\n",
       "1     起司醬佐松子核果義大利麵    29103    2\n",
       "2           BBQ豬肋排    29104    3\n",
       "3         韓式辣味油醋沙拉    29105    3\n",
       "4          法式干邑烤布蕾    29106    3\n",
       "...            ...      ...  ...\n",
       "6424         什錦海鮮凍    35526    1\n",
       "6425        酸辣海鮮沙拉    35527    1\n",
       "6426          醋溜鮭魚    35528    1\n",
       "6427       德州式烤肩胛心    35529    3\n",
       "6428       香煎嫩肩小菲力    35530    2\n",
       "\n",
       "[6429 rows x 3 columns]"
      ]
     },
     "execution_count": 73,
     "metadata": {},
     "output_type": "execute_result"
    }
   ],
   "source": [
    "data_fit=data.iloc[:,-1]\n",
    "data_name_fit"
   ]
  },
  {
   "cell_type": "code",
   "execution_count": 4,
   "metadata": {},
   "outputs": [
    {
     "name": "stderr",
     "output_type": "stream",
     "text": [
      "f:\\python3\\lib\\site-packages\\ipykernel_launcher.py:12: FutureWarning: Method .as_matrix will be removed in a future version. Use .values instead.\n",
      "  if sys.path[0] == '':\n"
     ]
    }
   ],
   "source": [
    "data=pd.read_csv(\"F:\\資策會\\專題\\R跟jupyternotebook_code\\complete.csv\")\n",
    "#①loc——通过行标签进行索引\n",
    "#②iloc——通过行号进行索引\n",
    "#③ix——结合前两种的混合索引\n",
    "#data.loc[:,\"Comp.1\":\"Comp.5\"]     原本用loc[:,20:25]一直出不來,這邊列的位置不能空，跟R不一樣，至少要有個:\n",
    "data_projector=data.iloc[:,3:20]\n",
    "data_name=data.iloc[:,0:2]\n",
    "data_fit=data.iloc[:,-1]\n",
    "data_name_fit=pd.concat([data_name,data_fit],axis=1)\n",
    "\n",
    "a=data_projector.columns\n",
    "tmp=data_projector.as_matrix()\n",
    "tmp_around=np.around(tmp,decimals=2)\n",
    "data_projector_around=pd.DataFrame(tmp_around,columns=a)\n",
    "with open(\"data_projector_raw_around.tsv\", 'w') as write_tsv:\n",
    "    write_tsv.write(data_projector_around.to_csv(sep='\\t', index=False,header=False))\n",
    "\n",
    "# with open(\"data_name_fit.tsv\", 'w',encoding=\"utf-8\") as write_tsv:\n",
    "#     write_tsv.write(data_name_fit.to_csv(sep='\\t', index=False,header=True))"
   ]
  }
 ],
 "metadata": {
  "kernelspec": {
   "display_name": "Python 3",
   "language": "python",
   "name": "python3"
  },
  "language_info": {
   "codemirror_mode": {
    "name": "ipython",
    "version": 3
   },
   "file_extension": ".py",
   "mimetype": "text/x-python",
   "name": "python",
   "nbconvert_exporter": "python",
   "pygments_lexer": "ipython3",
   "version": "3.7.4"
  }
 },
 "nbformat": 4,
 "nbformat_minor": 2
}
